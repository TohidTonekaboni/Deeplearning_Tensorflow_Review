{
 "cells": [
  {
   "cell_type": "code",
   "execution_count": 1,
   "id": "865f56f2-9332-4c96-a473-74aeb631290f",
   "metadata": {
    "id": "865f56f2-9332-4c96-a473-74aeb631290f"
   },
   "outputs": [
    {
     "name": "stderr",
     "output_type": "stream",
     "text": [
      "2023-12-04 13:43:56.336955: I tensorflow/tsl/cuda/cudart_stub.cc:28] Could not find cuda drivers on your machine, GPU will not be used.\n",
      "2023-12-04 13:43:56.736458: I tensorflow/tsl/cuda/cudart_stub.cc:28] Could not find cuda drivers on your machine, GPU will not be used.\n",
      "2023-12-04 13:43:56.737409: I tensorflow/core/platform/cpu_feature_guard.cc:182] This TensorFlow binary is optimized to use available CPU instructions in performance-critical operations.\n",
      "To enable the following instructions: AVX2 FMA, in other operations, rebuild TensorFlow with the appropriate compiler flags.\n",
      "2023-12-04 13:43:58.165044: W tensorflow/compiler/tf2tensorrt/utils/py_utils.cc:38] TF-TRT Warning: Could not find TensorRT\n"
     ]
    }
   ],
   "source": [
    "import tensorflow as tf\n",
    "from tensorflow import keras\n",
    "from sklearn.datasets import fetch_california_housing\n",
    "from sklearn.model_selection import train_test_split\n",
    "from sklearn.preprocessing import StandardScaler\n",
    "from sklearn.model_selection import GridSearchCV"
   ]
  },
  {
   "cell_type": "code",
   "execution_count": 2,
   "id": "b800f14d-c1a1-478b-898f-fb6762f0ca75",
   "metadata": {
    "id": "b800f14d-c1a1-478b-898f-fb6762f0ca75"
   },
   "outputs": [],
   "source": [
    "import matplotlib.pyplot as plt\n",
    "import numpy as np"
   ]
  },
  {
   "cell_type": "code",
   "execution_count": 3,
   "id": "fd9a1bd1-c65b-4c81-9a17-75b2cc4bc1b9",
   "metadata": {
    "colab": {
     "base_uri": "https://localhost:8080/",
     "height": 57
    },
    "id": "fd9a1bd1-c65b-4c81-9a17-75b2cc4bc1b9",
    "outputId": "e5dc2f55-d318-479a-ad77-d020dba6f674"
   },
   "outputs": [
    {
     "data": {
      "text/plain": [
       "'2.12.0'"
      ]
     },
     "execution_count": 3,
     "metadata": {},
     "output_type": "execute_result"
    }
   ],
   "source": [
    "tf.__version__"
   ]
  },
  {
   "cell_type": "markdown",
   "id": "6c987b3a-61a0-4639-9cf7-2c14b7b39649",
   "metadata": {
    "id": "6c987b3a-61a0-4639-9cf7-2c14b7b39649"
   },
   "source": [
    "# Classification"
   ]
  },
  {
   "cell_type": "code",
   "execution_count": 4,
   "id": "b1c9edfb-326c-4ebd-bab4-ad14487cc3bf",
   "metadata": {
    "id": "b1c9edfb-326c-4ebd-bab4-ad14487cc3bf"
   },
   "outputs": [],
   "source": [
    "fmnist_data = keras.datasets.fashion_mnist"
   ]
  },
  {
   "cell_type": "code",
   "execution_count": 5,
   "id": "86c3ab9f-aa8b-4a39-9cf3-29b346e398cc",
   "metadata": {
    "colab": {
     "base_uri": "https://localhost:8080/"
    },
    "id": "86c3ab9f-aa8b-4a39-9cf3-29b346e398cc",
    "outputId": "a30d9a44-c288-4278-ee60-60ae82be1594"
   },
   "outputs": [
    {
     "name": "stdout",
     "output_type": "stream",
     "text": [
      "Downloading data from https://storage.googleapis.com/tensorflow/tf-keras-datasets/train-labels-idx1-ubyte.gz\n",
      "29515/29515 [==============================] - 0s 1us/step\n",
      "Downloading data from https://storage.googleapis.com/tensorflow/tf-keras-datasets/train-images-idx3-ubyte.gz\n",
      "26421880/26421880 [==============================] - 129s 5us/step\n",
      "Downloading data from https://storage.googleapis.com/tensorflow/tf-keras-datasets/t10k-labels-idx1-ubyte.gz\n",
      "5148/5148 [==============================] - 0s 0us/step\n",
      "Downloading data from https://storage.googleapis.com/tensorflow/tf-keras-datasets/t10k-images-idx3-ubyte.gz\n",
      "4422102/4422102 [==============================] - 5s 1us/step\n"
     ]
    }
   ],
   "source": [
    "(x_train, y_train), (x_test, y_test) = fmnist_data.load_data()"
   ]
  },
  {
   "cell_type": "code",
   "execution_count": 6,
   "id": "b88c74a9-c846-4f5c-89a4-f32846a6bc25",
   "metadata": {
    "colab": {
     "base_uri": "https://localhost:8080/"
    },
    "id": "b88c74a9-c846-4f5c-89a4-f32846a6bc25",
    "outputId": "7f6e8301-1479-4299-9895-7e805d37a56b"
   },
   "outputs": [
    {
     "data": {
      "text/plain": [
       "(60000, 28, 28)"
      ]
     },
     "execution_count": 6,
     "metadata": {},
     "output_type": "execute_result"
    }
   ],
   "source": [
    "x_train.shape"
   ]
  },
  {
   "cell_type": "code",
   "execution_count": 7,
   "id": "ff821769-4bea-4c01-b876-61f75a939922",
   "metadata": {
    "colab": {
     "base_uri": "https://localhost:8080/"
    },
    "id": "ff821769-4bea-4c01-b876-61f75a939922",
    "outputId": "80102f66-4d5f-43c8-faab-a4e8e2f85b65"
   },
   "outputs": [
    {
     "data": {
      "text/plain": [
       "(10000, 28, 28)"
      ]
     },
     "execution_count": 7,
     "metadata": {},
     "output_type": "execute_result"
    }
   ],
   "source": [
    "x_test.shape"
   ]
  },
  {
   "cell_type": "code",
   "execution_count": 8,
   "id": "fe57a9c6-d427-4b10-b5e3-cf56d9d683c0",
   "metadata": {
    "colab": {
     "base_uri": "https://localhost:8080/"
    },
    "id": "fe57a9c6-d427-4b10-b5e3-cf56d9d683c0",
    "outputId": "703aac46-bca7-49f9-a462-4415d09bb5be"
   },
   "outputs": [
    {
     "data": {
      "text/plain": [
       "(60000,)"
      ]
     },
     "execution_count": 8,
     "metadata": {},
     "output_type": "execute_result"
    }
   ],
   "source": [
    "y_train.shape"
   ]
  },
  {
   "cell_type": "code",
   "execution_count": null,
   "id": "db835ff6-472f-40e2-a279-0aa53c385c10",
   "metadata": {
    "colab": {
     "base_uri": "https://localhost:8080/"
    },
    "id": "db835ff6-472f-40e2-a279-0aa53c385c10",
    "outputId": "2e6b85bb-e605-42da-d4d1-36ed6875db35"
   },
   "outputs": [],
   "source": [
    "y_train[:10]"
   ]
  },
  {
   "cell_type": "code",
   "execution_count": 9,
   "id": "a4dd6dd1-d4bd-4c5e-93a4-20f534ee0fcb",
   "metadata": {
    "colab": {
     "base_uri": "https://localhost:8080/",
     "height": 303
    },
    "id": "a4dd6dd1-d4bd-4c5e-93a4-20f534ee0fcb",
    "outputId": "95134b96-980e-4e2f-e13e-2687245a30ff"
   },
   "outputs": [
    {
     "data": {
      "text/plain": [
       "<matplotlib.image.AxesImage at 0x7fd34774d810>"
      ]
     },
     "execution_count": 9,
     "metadata": {},
     "output_type": "execute_result"
    },
    {
     "data": {
      "image/png": "[encoded data removed]",
      "text/plain": [
       "<Figure size 640x480 with 1 Axes>"
      ]
     },
     "metadata": {},
     "output_type": "display_data"
    }
   ],
   "source": [
    "plt.imshow(x_train[0,], cmap=\"gray\")"
   ]
  },
  {
   "cell_type": "code",
   "execution_count": 10,
   "id": "187dc581-5c27-486c-be8c-e77925d1948b",
   "metadata": {
    "id": "187dc581-5c27-486c-be8c-e77925d1948b"
   },
   "outputs": [],
   "source": [
    "x_train, x_test = x_train/255.0, x_test/255.0"
   ]
  },
  {
   "cell_type": "code",
   "execution_count": 11,
   "id": "fc4cf3af-02e9-4e29-aede-71c3bf638b4f",
   "metadata": {
    "colab": {
     "base_uri": "https://localhost:8080/"
    },
    "id": "fc4cf3af-02e9-4e29-aede-71c3bf638b4f",
    "outputId": "77fe7e44-0535-47f6-d82a-e540df473a7b"
   },
   "outputs": [
    {
     "data": {
      "text/plain": [
       "(60000, 28, 28)"
      ]
     },
     "execution_count": 11,
     "metadata": {},
     "output_type": "execute_result"
    }
   ],
   "source": [
    "x_train.shape"
   ]
  },
  {
   "cell_type": "markdown",
   "id": "f5ac2135-d9ca-4e45-a2b8-585891173466",
   "metadata": {
    "id": "f5ac2135-d9ca-4e45-a2b8-585891173466"
   },
   "source": [
    "# Define Model "
   ]
  },
  {
   "cell_type": "code",
   "execution_count": 12,
   "id": "DbuMAcKDUChR",
   "metadata": {
    "id": "DbuMAcKDUChR"
   },
   "outputs": [],
   "source": [
    "init_1 = keras.initializers.VarianceScaling(scale=2.0, mode='fan_avg')"
   ]
  },
  {
   "cell_type": "code",
   "execution_count": 13,
   "id": "256c9c7a-c7d7-4cb4-890e-245649c0c1d2",
   "metadata": {
    "id": "256c9c7a-c7d7-4cb4-890e-245649c0c1d2"
   },
   "outputs": [],
   "source": [
    "model = keras.models.Sequential([\n",
    "    keras.layers.Flatten(input_shape=[28, 28]),\n",
    "    keras.layers.BatchNormalization(),    \n",
    "    keras.layers.Dense(100, kernel_initializer=init_1, use_bias=False),\n",
    "    keras.layers.BatchNormalization(),\n",
    "    keras.layers.Activation(\"elu\"), \n",
    "    keras.layers.Dense(75, use_bias=False),\n",
    "    keras.layers.BatchNormalization(),\n",
    "    keras.layers.LeakyReLU(alpha=0.3),\n",
    "    keras.layers.Dense(10, activation=\"softmax\")\n",
    "])"
   ]
  },
  {
   "cell_type": "code",
   "execution_count": 14,
   "id": "e739c031-8f84-4c60-98b4-e9aaf6eb78e4",
   "metadata": {
    "colab": {
     "base_uri": "https://localhost:8080/"
    },
    "id": "e739c031-8f84-4c60-98b4-e9aaf6eb78e4",
    "outputId": "0efb3f1d-21cd-43a0-db79-0084da91cbf4"
   },
   "outputs": [
    {
     "name": "stdout",
     "output_type": "stream",
     "text": [
      "Model: \"sequential\"\n",
      "_________________________________________________________________\n",
      " Layer (type)                Output Shape              Param #   \n",
      "=================================================================\n",
      " flatten (Flatten)           (None, 784)               0         \n",
      "                                                                 \n",
      " batch_normalization (BatchN  (None, 784)              3136      \n",
      " ormalization)                                                   \n",
      "                                                                 \n",
      " dense (Dense)               (None, 100)               78400     \n",
      "                                                                 \n",
      " batch_normalization_1 (Batc  (None, 100)              400       \n",
      " hNormalization)                                                 \n",
      "                                                                 \n",
      " activation (Activation)     (None, 100)               0         \n",
      "                                                                 \n",
      " dense_1 (Dense)             (None, 75)                7500      \n",
      "                                                                 \n",
      " batch_normalization_2 (Batc  (None, 75)               300       \n",
      " hNormalization)                                                 \n",
      "                                                                 \n",
      " leaky_re_lu (LeakyReLU)     (None, 75)                0         \n",
      "                                                                 \n",
      " dense_2 (Dense)             (None, 10)                760       \n",
      "                                                                 \n",
      "=================================================================\n",
      "Total params: 90,496\n",
      "Trainable params: 88,578\n",
      "Non-trainable params: 1,918\n",
      "_________________________________________________________________\n"
     ]
    }
   ],
   "source": [
    "model.summary()"
   ]
  },
  {
   "cell_type": "markdown",
   "id": "f33d5157-bce2-4244-81f5-4eb77a0432f4",
   "metadata": {
    "id": "f33d5157-bce2-4244-81f5-4eb77a0432f4"
   },
   "source": [
    "# Compile Model"
   ]
  },
  {
   "cell_type": "markdown",
   "id": "mrDGEFLcMfrg",
   "metadata": {
    "id": "mrDGEFLcMfrg"
   },
   "source": [
    "## Power lr"
   ]
  },
  {
   "cell_type": "code",
   "execution_count": 18,
   "id": "nuVTHaJcOxii",
   "metadata": {
    "id": "nuVTHaJcOxii"
   },
   "outputs": [],
   "source": [
    "from tensorflow.keras.optimizers import SGD\n",
    "from tensorflow.keras.optimizers.schedules import ExponentialDecay\n",
    "\n",
    "initial_learning_rate = 0.01\n",
    "lr_schedule = ExponentialDecay(initial_learning_rate, decay_steps=10000, decay_rate=0.9, staircase=True)\n",
    "\n",
    "sgd = SGD(learning_rate=lr_schedule)"
   ]
  },
  {
   "cell_type": "code",
   "execution_count": 19,
   "id": "df70f038-6509-4cfd-bb9e-e378ee3a5d9f",
   "metadata": {
    "id": "df70f038-6509-4cfd-bb9e-e378ee3a5d9f"
   },
   "outputs": [],
   "source": [
    "model.compile(loss=\"sparse_categorical_crossentropy\",\n",
    "              optimizer=sgd,\n",
    "              metrics=[\"accuracy\"])"
   ]
  },
  {
   "cell_type": "code",
   "execution_count": 20,
   "id": "2dc38a75-d238-4438-b6ae-340f2dd1d44b",
   "metadata": {
    "colab": {
     "base_uri": "https://localhost:8080/"
    },
    "id": "2dc38a75-d238-4438-b6ae-340f2dd1d44b",
    "outputId": "d369db9d-5ea5-4ae1-b968-ebacbb531488"
   },
   "outputs": [
    {
     "name": "stdout",
     "output_type": "stream",
     "text": [
      "Epoch 1/50\n"
     ]
    },
    {
     "name": "stderr",
     "output_type": "stream",
     "text": [
      "2023-12-04 15:48:26.119746: W tensorflow/tsl/framework/cpu_allocator_impl.cc:83] Allocation of 159936000 exceeds 10% of free system memory.\n"
     ]
    },
    {
     "name": "stdout",
     "output_type": "stream",
     "text": [
      "1575/1594 [============================>.] - ETA: 0s - loss: 0.6613 - accuracy: 0.7787"
     ]
    },
    {
     "name": "stderr",
     "output_type": "stream",
     "text": [
      "2023-12-04 15:48:31.077645: W tensorflow/tsl/framework/cpu_allocator_impl.cc:83] Allocation of 28224000 exceeds 10% of free system memory.\n"
     ]
    },
    {
     "name": "stdout",
     "output_type": "stream",
     "text": [
      "1594/1594 [==============================] - 5s 3ms/step - loss: 0.6593 - accuracy: 0.7794 - val_loss: 0.4854 - val_accuracy: 0.8302\n",
      "Epoch 2/50\n",
      "1594/1594 [==============================] - 4s 3ms/step - loss: 0.4859 - accuracy: 0.8300 - val_loss: 0.4348 - val_accuracy: 0.8457\n",
      "Epoch 3/50\n",
      "1594/1594 [==============================] - 5s 3ms/step - loss: 0.4456 - accuracy: 0.8434 - val_loss: 0.4104 - val_accuracy: 0.8543\n",
      "Epoch 4/50\n",
      "1594/1594 [==============================] - 4s 3ms/step - loss: 0.4209 - accuracy: 0.8516 - val_loss: 0.3917 - val_accuracy: 0.8593\n",
      "Epoch 5/50\n",
      "1594/1594 [==============================] - 5s 3ms/step - loss: 0.4030 - accuracy: 0.8586 - val_loss: 0.3839 - val_accuracy: 0.8656\n",
      "Epoch 6/50\n",
      "1594/1594 [==============================] - 5s 3ms/step - loss: 0.3895 - accuracy: 0.8611 - val_loss: 0.3790 - val_accuracy: 0.8663\n",
      "Epoch 7/50\n",
      "1594/1594 [==============================] - 5s 3ms/step - loss: 0.3740 - accuracy: 0.8670 - val_loss: 0.3663 - val_accuracy: 0.8672\n",
      "Epoch 8/50\n",
      "1594/1594 [==============================] - 4s 3ms/step - loss: 0.3678 - accuracy: 0.8687 - val_loss: 0.3649 - val_accuracy: 0.8694\n",
      "Epoch 9/50\n",
      "1594/1594 [==============================] - 5s 3ms/step - loss: 0.3570 - accuracy: 0.8730 - val_loss: 0.3566 - val_accuracy: 0.8740\n",
      "Epoch 10/50\n",
      "1594/1594 [==============================] - 4s 3ms/step - loss: 0.3487 - accuracy: 0.8754 - val_loss: 0.3534 - val_accuracy: 0.8738\n",
      "Epoch 11/50\n",
      "1594/1594 [==============================] - 5s 3ms/step - loss: 0.3419 - accuracy: 0.8785 - val_loss: 0.3501 - val_accuracy: 0.8758\n",
      "Epoch 12/50\n",
      "1594/1594 [==============================] - 5s 3ms/step - loss: 0.3353 - accuracy: 0.8798 - val_loss: 0.3447 - val_accuracy: 0.8768\n",
      "Epoch 13/50\n",
      "1594/1594 [==============================] - 5s 3ms/step - loss: 0.3268 - accuracy: 0.8834 - val_loss: 0.3464 - val_accuracy: 0.8796\n",
      "Epoch 14/50\n",
      "1594/1594 [==============================] - 5s 3ms/step - loss: 0.3246 - accuracy: 0.8840 - val_loss: 0.3381 - val_accuracy: 0.8798\n",
      "Epoch 15/50\n",
      "1594/1594 [==============================] - 5s 3ms/step - loss: 0.3164 - accuracy: 0.8864 - val_loss: 0.3366 - val_accuracy: 0.8800\n",
      "Epoch 16/50\n",
      "1594/1594 [==============================] - 5s 3ms/step - loss: 0.3127 - accuracy: 0.8872 - val_loss: 0.3368 - val_accuracy: 0.8821\n",
      "Epoch 17/50\n",
      "1594/1594 [==============================] - 5s 3ms/step - loss: 0.3099 - accuracy: 0.8881 - val_loss: 0.3339 - val_accuracy: 0.8816\n",
      "Epoch 18/50\n",
      "1594/1594 [==============================] - 5s 3ms/step - loss: 0.3028 - accuracy: 0.8904 - val_loss: 0.3389 - val_accuracy: 0.8821\n",
      "Epoch 19/50\n",
      "1594/1594 [==============================] - 5s 3ms/step - loss: 0.2968 - accuracy: 0.8936 - val_loss: 0.3301 - val_accuracy: 0.8841\n",
      "Epoch 20/50\n",
      "1594/1594 [==============================] - 5s 3ms/step - loss: 0.2936 - accuracy: 0.8939 - val_loss: 0.3330 - val_accuracy: 0.8821\n",
      "Epoch 21/50\n",
      "1594/1594 [==============================] - 5s 3ms/step - loss: 0.2901 - accuracy: 0.8949 - val_loss: 0.3349 - val_accuracy: 0.8799\n",
      "Epoch 22/50\n",
      "1594/1594 [==============================] - 5s 3ms/step - loss: 0.2877 - accuracy: 0.8957 - val_loss: 0.3280 - val_accuracy: 0.8870\n",
      "Epoch 23/50\n",
      "1594/1594 [==============================] - 5s 3ms/step - loss: 0.2829 - accuracy: 0.8966 - val_loss: 0.3245 - val_accuracy: 0.8869\n",
      "Epoch 24/50\n",
      "1594/1594 [==============================] - 5s 3ms/step - loss: 0.2791 - accuracy: 0.9000 - val_loss: 0.3286 - val_accuracy: 0.8830\n",
      "Epoch 25/50\n",
      "1594/1594 [==============================] - 6s 4ms/step - loss: 0.2768 - accuracy: 0.9007 - val_loss: 0.3296 - val_accuracy: 0.8812\n",
      "Epoch 26/50\n",
      "1594/1594 [==============================] - 5s 3ms/step - loss: 0.2725 - accuracy: 0.9016 - val_loss: 0.3249 - val_accuracy: 0.8823\n",
      "Epoch 27/50\n",
      "1594/1594 [==============================] - 5s 3ms/step - loss: 0.2673 - accuracy: 0.9031 - val_loss: 0.3272 - val_accuracy: 0.8846\n",
      "Epoch 28/50\n",
      "1594/1594 [==============================] - 6s 3ms/step - loss: 0.2657 - accuracy: 0.9027 - val_loss: 0.3215 - val_accuracy: 0.8861\n",
      "Epoch 29/50\n",
      "1594/1594 [==============================] - 5s 3ms/step - loss: 0.2628 - accuracy: 0.9055 - val_loss: 0.3231 - val_accuracy: 0.8860\n",
      "Epoch 30/50\n",
      "1594/1594 [==============================] - 5s 3ms/step - loss: 0.2573 - accuracy: 0.9061 - val_loss: 0.3196 - val_accuracy: 0.8834\n",
      "Epoch 31/50\n",
      "1594/1594 [==============================] - 5s 3ms/step - loss: 0.2586 - accuracy: 0.9057 - val_loss: 0.3202 - val_accuracy: 0.8870\n",
      "Epoch 32/50\n",
      "1594/1594 [==============================] - 5s 3ms/step - loss: 0.2562 - accuracy: 0.9072 - val_loss: 0.3209 - val_accuracy: 0.8868\n",
      "Epoch 33/50\n",
      "1594/1594 [==============================] - 5s 3ms/step - loss: 0.2526 - accuracy: 0.9085 - val_loss: 0.3250 - val_accuracy: 0.8859\n",
      "Epoch 34/50\n",
      "1594/1594 [==============================] - 6s 4ms/step - loss: 0.2494 - accuracy: 0.9094 - val_loss: 0.3245 - val_accuracy: 0.8874\n",
      "Epoch 35/50\n",
      "1594/1594 [==============================] - 5s 3ms/step - loss: 0.2471 - accuracy: 0.9097 - val_loss: 0.3226 - val_accuracy: 0.8841\n",
      "Epoch 36/50\n",
      "1594/1594 [==============================] - 5s 3ms/step - loss: 0.2439 - accuracy: 0.9111 - val_loss: 0.3225 - val_accuracy: 0.8857\n",
      "Epoch 37/50\n",
      "1594/1594 [==============================] - 5s 3ms/step - loss: 0.2398 - accuracy: 0.9135 - val_loss: 0.3262 - val_accuracy: 0.8848\n",
      "Epoch 38/50\n",
      "1594/1594 [==============================] - 5s 3ms/step - loss: 0.2410 - accuracy: 0.9122 - val_loss: 0.3229 - val_accuracy: 0.8880\n",
      "Epoch 39/50\n",
      "1594/1594 [==============================] - 6s 4ms/step - loss: 0.2379 - accuracy: 0.9131 - val_loss: 0.3199 - val_accuracy: 0.8864\n",
      "Epoch 40/50\n",
      "1594/1594 [==============================] - 6s 4ms/step - loss: 0.2370 - accuracy: 0.9135 - val_loss: 0.3222 - val_accuracy: 0.8847\n",
      "Epoch 41/50\n",
      "1594/1594 [==============================] - 5s 3ms/step - loss: 0.2348 - accuracy: 0.9147 - val_loss: 0.3191 - val_accuracy: 0.8879\n",
      "Epoch 42/50\n",
      "1594/1594 [==============================] - 5s 3ms/step - loss: 0.2353 - accuracy: 0.9144 - val_loss: 0.3251 - val_accuracy: 0.8842\n",
      "Epoch 43/50\n",
      "1594/1594 [==============================] - 6s 4ms/step - loss: 0.2308 - accuracy: 0.9155 - val_loss: 0.3189 - val_accuracy: 0.8881\n",
      "Epoch 44/50\n",
      "1594/1594 [==============================] - 6s 4ms/step - loss: 0.2292 - accuracy: 0.9176 - val_loss: 0.3205 - val_accuracy: 0.8858\n",
      "Epoch 45/50\n",
      "1594/1594 [==============================] - 7s 4ms/step - loss: 0.2263 - accuracy: 0.9164 - val_loss: 0.3212 - val_accuracy: 0.8874\n",
      "Epoch 46/50\n",
      "1594/1594 [==============================] - 6s 4ms/step - loss: 0.2247 - accuracy: 0.9175 - val_loss: 0.3217 - val_accuracy: 0.8836\n",
      "Epoch 47/50\n",
      "1594/1594 [==============================] - 6s 4ms/step - loss: 0.2223 - accuracy: 0.9193 - val_loss: 0.3276 - val_accuracy: 0.8862\n",
      "Epoch 48/50\n",
      "1594/1594 [==============================] - 6s 4ms/step - loss: 0.2223 - accuracy: 0.9187 - val_loss: 0.3211 - val_accuracy: 0.8879\n",
      "Epoch 49/50\n",
      "1594/1594 [==============================] - 6s 4ms/step - loss: 0.2201 - accuracy: 0.9206 - val_loss: 0.3285 - val_accuracy: 0.8834\n",
      "Epoch 50/50\n",
      "1594/1594 [==============================] - 6s 4ms/step - loss: 0.2190 - accuracy: 0.9203 - val_loss: 0.3271 - val_accuracy: 0.8853\n"
     ]
    }
   ],
   "source": [
    "history_power = model.fit(x_train, y_train, epochs=50, validation_split=0.15)"
   ]
  },
  {
   "cell_type": "code",
   "execution_count": null,
   "id": "171f2d8b-b5d9-43da-909f-6c43e8e362d6",
   "metadata": {
    "colab": {
     "base_uri": "https://localhost:8080/",
     "height": 358
    },
    "id": "171f2d8b-b5d9-43da-909f-6c43e8e362d6",
    "jp-MarkdownHeadingCollapsed": true,
    "outputId": "f1c8c5e3-4891-4769-9f6f-7c90ba5e88d9",
    "tags": []
   },
   "outputs": [],
   "source": [
    "fig, ax = plt.subplots(figsize=(12, 5))\n",
    "ax.plot(history_power.history[\"loss\"], label=\"train loss\")\n",
    "ax.plot(history_power.history[\"accuracy\"], label=\"train accuracy\")\n",
    "ax.plot(history_power.history[\"val_loss\"], label=\"validation loss\")\n",
    "ax.plot(history_power.history[\"val_accuracy\"], label=\"validation accuracy\")\n",
    "ax.legend()"
   ]
  },
  {
   "cell_type": "markdown",
   "id": "-8C1TJpEMnbq",
   "metadata": {
    "id": "-8C1TJpEMnbq"
   },
   "source": [
    "## Exp lr"
   ]
  },
  {
   "cell_type": "code",
   "execution_count": null,
   "id": "ZXAqHeVKMyCi",
   "metadata": {
    "id": "ZXAqHeVKMyCi"
   },
   "outputs": [],
   "source": [
    "def exp_lr_func(eta0, s):\n",
    "  def exp_lr(epoch):\n",
    "    return eta0*0.1**(epoch/s)\n",
    "  return exp_lr\n",
    "exp_lr_s = exp_lr_func(0.01, 10)  "
   ]
  },
  {
   "cell_type": "code",
   "execution_count": null,
   "id": "54hfLAG5NiQS",
   "metadata": {
    "id": "54hfLAG5NiQS"
   },
   "outputs": [],
   "source": [
    "exp_lr_c = keras.callbacks.LearningRateScheduler(exp_lr_s)"
   ]
  },
  {
   "cell_type": "code",
   "execution_count": null,
   "id": "N0oRWbEwVDR0",
   "metadata": {
    "id": "N0oRWbEwVDR0"
   },
   "outputs": [],
   "source": [
    "model = keras.models.Sequential([\n",
    "    keras.layers.Flatten(input_shape=[28, 28]),\n",
    "    keras.layers.BatchNormalization(),\n",
    "    keras.layers.Dense(100, kernel_initializer=init_1, use_bias=False),\n",
    "    keras.layers.BatchNormalization(),\n",
    "    keras.layers.Activation(\"elu\"),\n",
    "    keras.layers.Dense(75, use_bias=False),\n",
    "    keras.layers.BatchNormalization(),\n",
    "    keras.layers.LeakyReLU(alpha=0.3),\n",
    "    keras.layers.Dense(10, activation=\"softmax\")\n",
    "])"
   ]
  },
  {
   "cell_type": "code",
   "execution_count": null,
   "id": "5RP7gcBiMmcU",
   "metadata": {
    "id": "5RP7gcBiMmcU"
   },
   "outputs": [],
   "source": [
    "model.compile(loss=\"sparse_categorical_crossentropy\",\n",
    "              optimizer=\"sgd\",\n",
    "              metrics=[\"accuracy\"])"
   ]
  },
  {
   "cell_type": "code",
   "execution_count": null,
   "id": "T2uV5-dEMxKw",
   "metadata": {
    "colab": {
     "base_uri": "https://localhost:8080/"
    },
    "id": "T2uV5-dEMxKw",
    "outputId": "2682d83f-744d-48ba-d10d-56be8d05483f"
   },
   "outputs": [],
   "source": [
    "history_exp = model.fit(x_train, y_train, epochs=50,\n",
    "                    validation_split=0.15,\n",
    "                    callbacks=[exp_lr_c])"
   ]
  },
  {
   "cell_type": "code",
   "execution_count": null,
   "id": "vo_s71jliPFk",
   "metadata": {
    "colab": {
     "base_uri": "https://localhost:8080/",
     "height": 358
    },
    "id": "vo_s71jliPFk",
    "outputId": "e97db8a1-92c1-4756-b120-1e7f79e2959e"
   },
   "outputs": [],
   "source": [
    "fig, ax = plt.subplots(figsize=(12, 5))\n",
    "ax.plot(history_exp.history[\"loss\"], label=\"train loss\")\n",
    "ax.plot(history_exp.history[\"accuracy\"], label=\"train accuracy\")\n",
    "ax.plot(history_exp.history[\"val_loss\"], label=\"validation loss\")\n",
    "ax.plot(history_exp.history[\"val_accuracy\"], label=\"validation accuracy\")\n",
    "ax.legend()"
   ]
  },
  {
   "cell_type": "code",
   "execution_count": null,
   "id": "pj2ImtBHir5U",
   "metadata": {
    "colab": {
     "base_uri": "https://localhost:8080/",
     "height": 303
    },
    "id": "pj2ImtBHir5U",
    "outputId": "f0f81306-6387-4904-ee6a-a17682626130"
   },
   "outputs": [],
   "source": [
    "plt.plot(history_exp.epoch, history_exp.history[\"lr\"])"
   ]
  },
  {
   "cell_type": "markdown",
   "id": "sWUyal5Ki8ot",
   "metadata": {
    "id": "sWUyal5Ki8ot"
   },
   "source": [
    "## Piecewise lr"
   ]
  },
  {
   "cell_type": "code",
   "execution_count": null,
   "id": "abTbbqUNi8LX",
   "metadata": {
    "id": "abTbbqUNi8LX"
   },
   "outputs": [],
   "source": [
    "def pw_lr(epoch):\n",
    "  if epoch < 10:\n",
    "    return 0.01\n",
    "  elif epoch < 20:\n",
    "    return 0.005\n",
    "  elif epoch < 40:\n",
    "    return 0.001\n",
    "  else:\n",
    "    return 0.0001"
   ]
  },
  {
   "cell_type": "code",
   "execution_count": null,
   "id": "6cBdWLtGjShP",
   "metadata": {
    "id": "6cBdWLtGjShP"
   },
   "outputs": [],
   "source": [
    "pw_lr_c = keras.callbacks.LearningRateScheduler(pw_lr)"
   ]
  },
  {
   "cell_type": "code",
   "execution_count": null,
   "id": "RzUy_MoQjaiW",
   "metadata": {
    "id": "RzUy_MoQjaiW"
   },
   "outputs": [],
   "source": [
    "model = keras.models.Sequential([\n",
    "    keras.layers.Flatten(input_shape=[28, 28]),\n",
    "    keras.layers.BatchNormalization(),\n",
    "    keras.layers.Dense(100, kernel_initializer=init_1, use_bias=False),\n",
    "    keras.layers.BatchNormalization(),\n",
    "    keras.layers.Activation(\"elu\"),\n",
    "    keras.layers.Dense(75, use_bias=False),\n",
    "    keras.layers.BatchNormalization(),\n",
    "    keras.layers.LeakyReLU(alpha=0.3),\n",
    "    keras.layers.Dense(10, activation=\"softmax\")\n",
    "])"
   ]
  },
  {
   "cell_type": "code",
   "execution_count": null,
   "id": "8-qSIRZhjeoV",
   "metadata": {
    "id": "8-qSIRZhjeoV"
   },
   "outputs": [],
   "source": [
    "model.compile(loss=\"sparse_categorical_crossentropy\",\n",
    "              optimizer=\"sgd\",\n",
    "              metrics=[\"accuracy\"])"
   ]
  },
  {
   "cell_type": "code",
   "execution_count": null,
   "id": "rbawjM8BjjTj",
   "metadata": {
    "colab": {
     "base_uri": "https://localhost:8080/"
    },
    "id": "rbawjM8BjjTj",
    "outputId": "1533dde4-3db4-4080-80ab-8d83c09c8c8d"
   },
   "outputs": [],
   "source": [
    "history_pw = model.fit(x_train, y_train, epochs=50,\n",
    "                    validation_split=0.15,\n",
    "                    callbacks=[pw_lr_c])"
   ]
  },
  {
   "cell_type": "code",
   "execution_count": null,
   "id": "ebYnOPU2oOTG",
   "metadata": {
    "colab": {
     "base_uri": "https://localhost:8080/",
     "height": 358
    },
    "id": "ebYnOPU2oOTG",
    "outputId": "8ffa230d-f02a-448d-ae1f-06437b2fd0eb"
   },
   "outputs": [],
   "source": [
    "fig, ax = plt.subplots(figsize=(12, 5))\n",
    "ax.plot(history_pw.history[\"loss\"], label=\"train loss\")\n",
    "ax.plot(history_pw.history[\"accuracy\"], label=\"train accuracy\")\n",
    "ax.plot(history_pw.history[\"val_loss\"], label=\"validation loss\")\n",
    "ax.plot(history_pw.history[\"val_accuracy\"], label=\"validation accuracy\")\n",
    "ax.legend()"
   ]
  },
  {
   "cell_type": "code",
   "execution_count": null,
   "id": "6yioRqTJocTt",
   "metadata": {
    "colab": {
     "base_uri": "https://localhost:8080/",
     "height": 303
    },
    "id": "6yioRqTJocTt",
    "outputId": "b4866455-52a8-45fa-f33f-dc93e3c5ba7e"
   },
   "outputs": [],
   "source": [
    "plt.plot(history_pw.epoch, history_pw.history[\"lr\"])"
   ]
  },
  {
   "cell_type": "markdown",
   "id": "8EkLskQRoj_s",
   "metadata": {
    "id": "8EkLskQRoj_s"
   },
   "source": [
    "## Performance"
   ]
  },
  {
   "cell_type": "code",
   "execution_count": null,
   "id": "ID8c8D6vonB4",
   "metadata": {
    "id": "ID8c8D6vonB4"
   },
   "outputs": [],
   "source": [
    "per_lr_c = tf.keras.callbacks.ReduceLROnPlateau(\n",
    "    monitor='val_loss', factor=0.1, patience=10)"
   ]
  },
  {
   "cell_type": "code",
   "execution_count": null,
   "id": "mn1tE7-mpN2D",
   "metadata": {
    "id": "mn1tE7-mpN2D"
   },
   "outputs": [],
   "source": [
    "model = keras.models.Sequential([\n",
    "    keras.layers.Flatten(input_shape=[28, 28]),\n",
    "    keras.layers.BatchNormalization(),\n",
    "    keras.layers.Dense(100, kernel_initializer=init_1, use_bias=False),\n",
    "    keras.layers.BatchNormalization(),\n",
    "    keras.layers.Activation(\"elu\"),\n",
    "    keras.layers.Dense(75, use_bias=False),\n",
    "    keras.layers.BatchNormalization(),\n",
    "    keras.layers.LeakyReLU(alpha=0.3),\n",
    "    keras.layers.Dense(10, activation=\"softmax\")\n",
    "])"
   ]
  },
  {
   "cell_type": "code",
   "execution_count": null,
   "id": "Lyw3oGrSpTha",
   "metadata": {
    "id": "Lyw3oGrSpTha"
   },
   "outputs": [],
   "source": [
    "model.compile(loss=\"sparse_categorical_crossentropy\",\n",
    "              optimizer=\"sgd\",\n",
    "              metrics=[\"accuracy\"])"
   ]
  },
  {
   "cell_type": "code",
   "execution_count": null,
   "id": "6_--Xu0WpWeE",
   "metadata": {
    "colab": {
     "base_uri": "https://localhost:8080/"
    },
    "id": "6_--Xu0WpWeE",
    "outputId": "3fb42959-3f75-497a-8545-4141761e3b89"
   },
   "outputs": [],
   "source": [
    "history_per = model.fit(x_train, y_train, epochs=50,\n",
    "                    validation_split=0.15,\n",
    "                    callbacks=[per_lr_c])"
   ]
  },
  {
   "cell_type": "code",
   "execution_count": null,
   "id": "jawAEuYXqWkf",
   "metadata": {
    "colab": {
     "base_uri": "https://localhost:8080/",
     "height": 358
    },
    "id": "jawAEuYXqWkf",
    "outputId": "865b1afe-de91-4906-d778-1a6ad1b821d2"
   },
   "outputs": [],
   "source": [
    "fig, ax = plt.subplots(figsize=(12, 5))\n",
    "ax.plot(history_per.history[\"loss\"], label=\"train loss\")\n",
    "ax.plot(history_per.history[\"accuracy\"], label=\"train accuracy\")\n",
    "ax.plot(history_per.history[\"val_loss\"], label=\"validation loss\")\n",
    "ax.plot(history_per.history[\"val_accuracy\"], label=\"validation accuracy\")\n",
    "ax.legend()"
   ]
  },
  {
   "cell_type": "code",
   "execution_count": null,
   "id": "4ZjbCFy-qgD0",
   "metadata": {
    "colab": {
     "base_uri": "https://localhost:8080/",
     "height": 303
    },
    "id": "4ZjbCFy-qgD0",
    "outputId": "e0bf2f89-dae6-4a44-b54d-62f6ecaf4ea8"
   },
   "outputs": [],
   "source": [
    "plt.plot(history_per.epoch, history_per.history[\"lr\"])"
   ]
  },
  {
   "cell_type": "code",
   "execution_count": null,
   "id": "3tBfbB2kn84I",
   "metadata": {
    "colab": {
     "base_uri": "https://localhost:8080/"
    },
    "id": "3tBfbB2kn84I",
    "outputId": "71528d75-0bb5-4157-b302-38566af18b88"
   },
   "outputs": [],
   "source": [
    "min(history_per.history[\"val_loss\"])"
   ]
  },
  {
   "cell_type": "markdown",
   "id": "m8cMhrW6wtk4",
   "metadata": {
    "id": "m8cMhrW6wtk4"
   },
   "source": [
    "## 1cycle lr"
   ]
  },
  {
   "cell_type": "code",
   "execution_count": null,
   "id": "REtWLVQa_pqr",
   "metadata": {
    "id": "REtWLVQa_pqr"
   },
   "outputs": [],
   "source": [
    "class Exp_lr(keras.callbacks.Callback):\n",
    "  def __init__(self, factor):\n",
    "    self.factor = factor\n",
    "    self.lr = []\n",
    "    self.loss = []\n",
    "  \n",
    "  def on_epoch_begin(self, epoch, logs):\n",
    "    self.previous_loss = 0\n",
    "  \n",
    "  def on_batch_end(self, batch, logs):\n",
    "    current_loss = logs[\"loss\"]*(batch+1) - self.previous_loss*batch\n",
    "    self.previous_loss = logs[\"loss\"]\n",
    "    self.lr.append(keras.backend.get_value(self.model.optimizer.learning_rate))\n",
    "    self.loss.append(current_loss)\n",
    "    keras.backend.set_value(self.model.optimizer.learning_rate,\n",
    "                            self.model.optimizer.learning_rate*self.factor)"
   ]
  },
  {
   "cell_type": "code",
   "execution_count": null,
   "id": "JG5DaRX2_pgH",
   "metadata": {
    "id": "JG5DaRX2_pgH"
   },
   "outputs": [],
   "source": [
    "def search_lr_loss(model, X, y, epochs=1, batch_size=32,\n",
    "                   min_lr = 1e-6, max_lr = 10):\n",
    "  model_weights = model.get_weights()\n",
    "  iterations = int(X.shape[0]/batch_size)*epochs\n",
    "  factor = np.exp(np.log(max_lr/min_lr)/iterations)\n",
    "  initial_lr = keras.backend.get_value(model.optimizer.learning_rate)\n",
    "  keras.backend.set_value(model.optimizer.learning_rate, min_lr)\n",
    "  epx_lr = Exp_lr(factor)\n",
    "  history = model.fit(X, y, epochs=epochs, batch_size=batch_size,\n",
    "                      callbacks=[epx_lr])\n",
    "  keras.backend.set_value(model.optimizer.learning_rate, initial_lr)\n",
    "  model.set_weights(model_weights)\n",
    "  return epx_lr.lr, epx_lr.loss"
   ]
  },
  {
   "cell_type": "code",
   "execution_count": null,
   "id": "aGqDk_0v_oyB",
   "metadata": {
    "id": "aGqDk_0v_oyB"
   },
   "outputs": [],
   "source": [
    "model = keras.models.Sequential([\n",
    "    keras.layers.Flatten(input_shape=[28, 28]),\n",
    "    keras.layers.BatchNormalization(),\n",
    "    keras.layers.Dense(100, kernel_initializer=init_1, use_bias=False),\n",
    "    keras.layers.BatchNormalization(),\n",
    "    keras.layers.Activation(\"elu\"),\n",
    "    keras.layers.Dense(75, use_bias=False),\n",
    "    keras.layers.BatchNormalization(),\n",
    "    keras.layers.LeakyReLU(alpha=0.3),\n",
    "    keras.layers.Dense(10, activation=\"softmax\")\n",
    "])"
   ]
  },
  {
   "cell_type": "code",
   "execution_count": null,
   "id": "IE5FwRuv7LEK",
   "metadata": {
    "id": "IE5FwRuv7LEK"
   },
   "outputs": [],
   "source": [
    "model.compile(loss=\"sparse_categorical_crossentropy\",\n",
    "              optimizer=\"sgd\",\n",
    "              metrics=[\"accuracy\"])"
   ]
  },
  {
   "cell_type": "code",
   "execution_count": null,
   "id": "yrnBImHaSFAx",
   "metadata": {
    "colab": {
     "base_uri": "https://localhost:8080/"
    },
    "id": "yrnBImHaSFAx",
    "outputId": "ff6e31a2-67f1-4bde-9579-c0ab787a8d06"
   },
   "outputs": [],
   "source": [
    "lr, loss = search_lr_loss(model, x_train, y_train)"
   ]
  },
  {
   "cell_type": "code",
   "execution_count": null,
   "id": "M8jIRXE9Se9a",
   "metadata": {
    "colab": {
     "base_uri": "https://localhost:8080/",
     "height": 311
    },
    "id": "M8jIRXE9Se9a",
    "outputId": "b0c584c5-ab45-40ce-fca9-52d8afb6460c"
   },
   "outputs": [],
   "source": [
    "plt.plot(lr, loss)\n",
    "plt.xscale(\"log\")\n",
    "plt.ylim(0, 5)"
   ]
  },
  {
   "cell_type": "code",
   "execution_count": null,
   "id": "TW1dNi2lShKc",
   "metadata": {
    "id": "TW1dNi2lShKc"
   },
   "outputs": [],
   "source": [
    "class One_cycle_lr(keras.callbacks.Callback):\n",
    "  def __init__(self, iterations, max_lr, init_lr=None,\n",
    "               final_steps=None, final_lr=None):\n",
    "    self.iterations = iterations\n",
    "    self.max_lr = max_lr\n",
    "    self.init_lr = init_lr or max_lr / 10\n",
    "    self.final_steps = final_steps or int(iterations/10)+1\n",
    "    self.half_iterations = int((iterations - self.final_steps)/2)\n",
    "    self.final_lr = final_lr or self.init_lr/1000\n",
    "    self.iteration = 0\n",
    "  \n",
    "  def interpolation(self, y2, y1, x2, x1):\n",
    "    return (y2 - y1)/(x2 - x1)*(self.iteration - x1) + y1\n",
    "  \n",
    "  def on_batch_begin(self, batch, logs):\n",
    "    if self.iteration < self.half_iterations:\n",
    "      lr = self.interpolation(self.max_lr, self.init_lr,\n",
    "                              self.half_iterations, 0)\n",
    "    elif self.iteration < 2*self.half_iterations:\n",
    "      lr = self.interpolation(self.init_lr, self.max_lr,\n",
    "                              2*self.half_iterations, self.half_iterations)\n",
    "    else:\n",
    "      lr = self.interpolation(self.final_lr, self.init_lr,\n",
    "                              self.iterations, 2*self.half_iterations)\n",
    "    self.iteration += 1\n",
    "    keras.backend.set_value(self.model.optimizer.learning_rate, lr)"
   ]
  },
  {
   "cell_type": "code",
   "execution_count": null,
   "id": "queZm6Px4fel",
   "metadata": {
    "id": "queZm6Px4fel"
   },
   "outputs": [],
   "source": [
    "model = keras.models.Sequential([\n",
    "    keras.layers.Flatten(input_shape=[28, 28]),\n",
    "    keras.layers.BatchNormalization(),\n",
    "    keras.layers.Dense(100, kernel_initializer=init_1, use_bias=False),\n",
    "    keras.layers.BatchNormalization(),\n",
    "    keras.layers.Activation(\"elu\"),\n",
    "    keras.layers.Dense(75, use_bias=False),\n",
    "    keras.layers.BatchNormalization(),\n",
    "    keras.layers.LeakyReLU(alpha=0.3),\n",
    "    keras.layers.Dense(10, activation=\"softmax\")\n",
    "])"
   ]
  },
  {
   "cell_type": "code",
   "execution_count": null,
   "id": "vQLj3AVm4rdg",
   "metadata": {
    "id": "vQLj3AVm4rdg"
   },
   "outputs": [],
   "source": [
    "model.compile(loss=\"sparse_categorical_crossentropy\",\n",
    "              optimizer=\"sgd\",\n",
    "              metrics=[\"accuracy\"])"
   ]
  },
  {
   "cell_type": "code",
   "execution_count": null,
   "id": "OIc_tJjm8HH4",
   "metadata": {
    "colab": {
     "base_uri": "https://localhost:8080/"
    },
    "id": "OIc_tJjm8HH4",
    "outputId": "a4433b8e-8036-442d-93b5-4c7ad637884f"
   },
   "outputs": [],
   "source": [
    "epochs = 50\n",
    "batch_size = 32\n",
    "iters = int(x_train.shape[0]/batch_size)*epochs\n",
    "one_cycle_lr = One_cycle_lr(iters, max_lr=0.03)\n",
    "history_onecycle = model.fit(x_train, y_train,\n",
    "                             validation_split=0.15,\n",
    "                             epochs=epochs,\n",
    "                             callbacks=[one_cycle_lr])"
   ]
  },
  {
   "cell_type": "code",
   "execution_count": null,
   "id": "SP1TOdebAkdK",
   "metadata": {
    "colab": {
     "base_uri": "https://localhost:8080/",
     "height": 358
    },
    "id": "SP1TOdebAkdK",
    "outputId": "6be4e6a4-bd4d-4770-a300-e53a386ba85b"
   },
   "outputs": [],
   "source": [
    "fig, ax = plt.subplots(figsize=(12, 5))\n",
    "ax.plot(history_onecycle.history[\"loss\"], label=\"train loss\")\n",
    "ax.plot(history_onecycle.history[\"accuracy\"], label=\"train accuracy\")\n",
    "ax.plot(history_onecycle.history[\"val_loss\"], label=\"validation loss\")\n",
    "ax.plot(history_onecycle.history[\"val_accuracy\"], label=\"validation accuracy\")\n",
    "ax.legend()"
   ]
  },
  {
   "cell_type": "markdown",
   "id": "ft1Ds4gqJHAL",
   "metadata": {
    "id": "ft1Ds4gqJHAL"
   },
   "source": [
    "# Save"
   ]
  },
  {
   "cell_type": "code",
   "execution_count": null,
   "id": "KPJGnP-PTjjc",
   "metadata": {
    "id": "KPJGnP-PTjjc"
   },
   "outputs": [],
   "source": [
    "model.save(\"model0.h5\")"
   ]
  },
  {
   "cell_type": "code",
   "execution_count": null,
   "id": "aqUHfbrxJ059",
   "metadata": {
    "id": "aqUHfbrxJ059"
   },
   "outputs": [],
   "source": [
    "model0 = keras.models.load_model(\"model0.h5\")"
   ]
  },
  {
   "cell_type": "code",
   "execution_count": null,
   "id": "ifyWNkrWMcKs",
   "metadata": {
    "colab": {
     "base_uri": "https://localhost:8080/"
    },
    "id": "ifyWNkrWMcKs",
    "outputId": "71dc7f2a-6da7-4f01-8ce8-1f2a0d84b82d"
   },
   "outputs": [],
   "source": [
    "model0.get_weights()[4]"
   ]
  },
  {
   "cell_type": "code",
   "execution_count": null,
   "id": "AOnwYDUyOf1d",
   "metadata": {
    "colab": {
     "base_uri": "https://localhost:8080/"
    },
    "id": "AOnwYDUyOf1d",
    "outputId": "fe5db285-338d-450f-8806-2c3c66bae844"
   },
   "outputs": [],
   "source": [
    "model1.get_weights()[4]"
   ]
  },
  {
   "cell_type": "code",
   "execution_count": null,
   "id": "dt-tw4qjMVek",
   "metadata": {
    "id": "dt-tw4qjMVek"
   },
   "outputs": [],
   "source": [
    "model0_cloned = keras.models.clone_model(model0)\n",
    "model0_cloned.set_weights(model0.get_weights())"
   ]
  },
  {
   "cell_type": "code",
   "execution_count": null,
   "id": "UcZ0iTOPMlJe",
   "metadata": {
    "colab": {
     "base_uri": "https://localhost:8080/"
    },
    "id": "UcZ0iTOPMlJe",
    "outputId": "5adbf84c-7285-46dc-dbb5-14010088dad5"
   },
   "outputs": [],
   "source": [
    "model0_cloned.get_weights()[4]"
   ]
  },
  {
   "cell_type": "code",
   "execution_count": null,
   "id": "fs4rQbIbT9we",
   "metadata": {
    "colab": {
     "base_uri": "https://localhost:8080/"
    },
    "id": "fs4rQbIbT9we",
    "outputId": "28f22bdc-cf63-48a7-db96-ddbb0d0335ed"
   },
   "outputs": [],
   "source": [
    "model1 = keras.models.Sequential(model0.layers[:-1])\n",
    "model1.add(keras.layers.Dense(1, activation=\"sigmoid\"))\n",
    "model1.summary()"
   ]
  },
  {
   "cell_type": "code",
   "execution_count": null,
   "id": "dgViXWo7T_hB",
   "metadata": {
    "colab": {
     "base_uri": "https://localhost:8080/"
    },
    "id": "dgViXWo7T_hB",
    "outputId": "060de977-bd0e-4950-e8f7-3b1de7d83a5d"
   },
   "outputs": [],
   "source": [
    "for layer in model1.layers[:-1]:\n",
    "  layer.trainable = True\n",
    "  print(layer.trainable)"
   ]
  },
  {
   "cell_type": "code",
   "execution_count": null,
   "id": "hHxNxYyfU2zE",
   "metadata": {
    "colab": {
     "base_uri": "https://localhost:8080/"
    },
    "id": "hHxNxYyfU2zE",
    "outputId": "b9cfd23f-8de1-47de-85ae-388ef041f994"
   },
   "outputs": [],
   "source": [
    "model1.summary()"
   ]
  },
  {
   "cell_type": "code",
   "execution_count": null,
   "id": "K3_sA2jbIwUB",
   "metadata": {
    "id": "K3_sA2jbIwUB"
   },
   "outputs": [],
   "source": [
    "x_train_new = x_train[:5000, :, :]"
   ]
  },
  {
   "cell_type": "code",
   "execution_count": null,
   "id": "vbpxIgpONW9i",
   "metadata": {
    "id": "vbpxIgpONW9i"
   },
   "outputs": [],
   "source": [
    "y_train_new = np.where(y_train == 9, 1, 0)[:5000]"
   ]
  },
  {
   "cell_type": "code",
   "execution_count": null,
   "id": "CgTZqtJwNue7",
   "metadata": {
    "id": "CgTZqtJwNue7"
   },
   "outputs": [],
   "source": [
    "model1.compile(loss=\"binary_crossentropy\", optimizer=\"sgd\", metrics=[\"accuracy\"])"
   ]
  },
  {
   "cell_type": "code",
   "execution_count": null,
   "id": "xWwOeUJZOH9N",
   "metadata": {
    "colab": {
     "base_uri": "https://localhost:8080/"
    },
    "id": "xWwOeUJZOH9N",
    "outputId": "cf3ffd62-41e7-4bb2-80a9-f5cbb0d89e7d"
   },
   "outputs": [],
   "source": [
    "model1.fit(x_train_new, y_train_new, epochs=15, validation_split=0.15)"
   ]
  },
  {
   "cell_type": "code",
   "execution_count": null,
   "id": "ptycSOfSUTro",
   "metadata": {
    "id": "ptycSOfSUTro"
   },
   "outputs": [],
   "source": []
  },
  {
   "cell_type": "markdown",
   "id": "WwMp87Y4ap2T",
   "metadata": {
    "id": "WwMp87Y4ap2T"
   },
   "source": [
    "# Optimizers"
   ]
  },
  {
   "cell_type": "code",
   "execution_count": 21,
   "id": "H50tnO2AchLn",
   "metadata": {
    "id": "H50tnO2AchLn"
   },
   "outputs": [],
   "source": [
    "def func(x):\n",
    "  return x**2\n",
    "\n",
    "def func_grad(x):\n",
    "  return 2*x"
   ]
  },
  {
   "cell_type": "code",
   "execution_count": 22,
   "id": "JVW24S8ictmt",
   "metadata": {
    "id": "JVW24S8ictmt"
   },
   "outputs": [],
   "source": [
    "def gradient_descent(lr, func_grad):\n",
    "  x = -10\n",
    "  x_values = [x]\n",
    "  for i in range(10):\n",
    "    x -= lr*func_grad(x)\n",
    "    x_values.append(x)\n",
    "  print(\"iteration 10, x: %s\"%x)\n",
    "  return x_values"
   ]
  },
  {
   "cell_type": "code",
   "execution_count": 23,
   "id": "vjqqbDyBdUfQ",
   "metadata": {
    "id": "vjqqbDyBdUfQ"
   },
   "outputs": [],
   "source": [
    "def search_path(x_vals, func):\n",
    "  x_line = np.arange(-15, 15, 0.01)\n",
    "  plt.plot(x_line, [func(x) for x in x_line])\n",
    "  plt.plot(x_vals, [func(x) for x in x_vals], \"ro-\")"
   ]
  },
  {
   "cell_type": "code",
   "execution_count": 25,
   "id": "zVlAx3oqeDLs",
   "metadata": {
    "colab": {
     "base_uri": "https://localhost:8080/",
     "height": 303
    },
    "id": "zVlAx3oqeDLs",
    "outputId": "15008a21-171e-48b7-be6b-394f4b47d727"
   },
   "outputs": [
    {
     "name": "stdout",
     "output_type": "stream",
     "text": [
      "iteration 10, x: -1.0737418240000003\n"
     ]
    },
    {
     "data": {
      "image/png": "[encoded data removed]",
      "text/plain": [
       "<Figure size 640x480 with 1 Axes>"
      ]
     },
     "metadata": {},
     "output_type": "display_data"
    }
   ],
   "source": [
    "x_values = gradient_descent(0.1, func_grad)\n",
    "search_path(x_values, func)"
   ]
  },
  {
   "cell_type": "code",
   "execution_count": 26,
   "id": "6-k4wLuleP7x",
   "metadata": {
    "id": "6-k4wLuleP7x"
   },
   "outputs": [],
   "source": [
    "def func(x1, x2):\n",
    "  return x1**2 + 2 * x2**2\n",
    "\n",
    "def func_grad(x1, x2):\n",
    "  return (2*x1, 4*x2)"
   ]
  },
  {
   "cell_type": "code",
   "execution_count": 27,
   "id": "RQC1Gp8OpLkH",
   "metadata": {
    "id": "RQC1Gp8OpLkH"
   },
   "outputs": [],
   "source": [
    "class Optimizers:\n",
    "  def __init__(self, lr_schedule):\n",
    "    self.lr_schedule = lr_schedule\n",
    "  \n",
    "  def lr(self, rate, t):\n",
    "    if self.lr_schedule == \"constant\":\n",
    "      return self.constant_lr(rate)\n",
    "    elif self.lr_schedule == \"power\":\n",
    "      return self.power_lr(rate, t)\n",
    "  \n",
    "  def constant_lr(self, rate):\n",
    "    return rate\n",
    "  \n",
    "  def power_lr(self, rate, t):\n",
    "    c = 1\n",
    "    s = 10\n",
    "    return rate/(1 + t/s)**c\n",
    "\n",
    "  def gradient_descent(self, x1, x2, t1, t2, func_grad, rate, t):\n",
    "    gr_x1, gr_x2 = func_grad(x1, x2)\n",
    "    return x1 - self.lr(rate, t)*gr_x1, x2 - self.lr(rate, t)*gr_x2, 0, 0\n",
    "  \n",
    "  def stochastic_gradient_descent(self, x1, x2, t1, t2, func_grad):\n",
    "    gr_x1, gr_x2 = func_grad(x1, x2)\n",
    "    gr_x1 += np.random.normal(0, 1)\n",
    "    gr_x2 += np.random.normal(0, 1)\n",
    "    return x1 - self.lr_schedule*gr_x1, x2 - self.lr_schedule*gr_x2, 0, 0\n",
    "  \n",
    "  def gradient_descent_with_momentum(self, x1, x2, v1, v2, func_grad):\n",
    "    alpha = 0.9 \n",
    "    gr_x1, gr_x2 = func_grad(x1, x2)\n",
    "    v1 = alpha*v1 - self.lr_schedule*gr_x1\n",
    "    v2 = alpha*v2 - self.lr_schedule*gr_x2\n",
    "    return x1 + v1, x2 + v2, v1, v2\n",
    "  \n",
    "  def nesterov_gradient_descent_with_momentum(self, x1, x2, v1, v2, func_grad):\n",
    "    alpha=0.9\n",
    "    x1 += alpha*v1\n",
    "    x2 += alpha*v2\n",
    "    gr_x1, gr_x2 = func_grad(x1, x2)\n",
    "    v1 = alpha*v1 - self.lr_schedule*gr_x1\n",
    "    v2 = alpha*v2 - self.lr_schedule*gr_x2\n",
    "    return x1 + v1, x2 + v2, v1, v2\n",
    "\n",
    "  def ada_grad(self, x1, x2, r1, r2, func_grad):\n",
    "    delta = 1e-7\n",
    "    gr_x1, gr_x2 = func_grad(x1, x2)\n",
    "    r1 += gr_x1**2\n",
    "    r2 += gr_x2**2\n",
    "    x1 -= self.lr_schedule/(delta + np.sqrt(r1))*gr_x1\n",
    "    x2 -= self.lr_schedule/(delta + np.sqrt(r2))*gr_x2\n",
    "    return x1, x2, r1, r2\n",
    "  \n",
    "  def rmsprop(self, x1, x2, r1, r2, func_grad):\n",
    "    delta = 1e-7\n",
    "    rho = 0.9\n",
    "    gr_x1, gr_x2 = func_grad(x1, x2)\n",
    "    r1 = r1*rho + (1-rho)*gr_x1**2\n",
    "    r2 = r2*rho + (1-rho)*gr_x2**2\n",
    "    x1 -= self.lr_schedule/np.sqrt(delta+r1)*gr_x1\n",
    "    x2 -= self.lr_schedule/np.sqrt(delta+r2)*gr_x2\n",
    "    return x1, x2, r1, r2\n",
    "\n",
    "  def adam(self, x1, x2, s1, s2, r1, r2, t, func_grad):\n",
    "    delta, rho1, rho2 = 1e-8, 0.9, 0.999\n",
    "    gr_x1, gr_x2 = func_grad(x1, x2)\n",
    "\n",
    "    s1 = rho1*s1 + (1-rho1)*gr_x1\n",
    "    s2 = rho1*s2 + (1-rho1)*gr_x2\n",
    "\n",
    "    r1 = rho2*r1 + (1-rho2)*gr_x1**2\n",
    "    r2 = rho2*r2 + (1-rho2)*gr_x2**2\n",
    "\n",
    "    shat1 = s1/(1-rho1**(t+1))\n",
    "    shat2 = s2/(1-rho1**(t+1))\n",
    "\n",
    "    rhat1 = r1/(1-rho2**(t+1))\n",
    "    rhat2 = r2/(1-rho2**(t+1))\n",
    "\n",
    "    x1 -= self.lr_schedule*shat1/(np.sqrt(rhat1)+delta)\n",
    "    x2 -= self.lr_schedule*shat2/(np.sqrt(rhat2)+delta)\n",
    "\n",
    "    return x1, x2, s1, s2, r1, r2"
   ]
  },
  {
   "cell_type": "code",
   "execution_count": 28,
   "id": "IY34pwUSq1c2",
   "metadata": {
    "id": "IY34pwUSq1c2"
   },
   "outputs": [],
   "source": [
    "def search(optimizer, func_grad, rate, iteration=20):\n",
    "  x1, x2, t1, t2 = -5, -2, 0, 0\n",
    "  x_iterations = [(x1, x2)]\n",
    "  for i in range(iteration):\n",
    "    x1, x2, t1, t2 = optimizer(x1, x2, t1, t2, func_grad, rate, i+1)\n",
    "    x_iterations.append((x1, x2))\n",
    "  print(\"epoch {}, x1:{}, x2:{}\".format(i+1, x1, x2))\n",
    "  return x_iterations"
   ]
  },
  {
   "cell_type": "code",
   "execution_count": 29,
   "id": "8HhFi-E7Uee7",
   "metadata": {
    "id": "8HhFi-E7Uee7"
   },
   "outputs": [],
   "source": [
    "def search_adam(optimizer_adam, func_grad, iterations=20):\n",
    "  x1, x2, s1, s2, r1, r2 = -5, -2, 0, 0, 0, 0\n",
    "  x_iterations = [(x1, x2)]\n",
    "  for t in range(iterations):\n",
    "    x1, x2, s1, s2, r1, r2 = optimizer_adam(x1, x2, s1, s2, r1, r2, t, func_grad)\n",
    "    x_iterations.append((x1, x2))\n",
    "  print(\"epoch {}, x1:{}, x2:{}\".format(t+1, x1, x2))\n",
    "  return x_iterations"
   ]
  },
  {
   "cell_type": "code",
   "execution_count": 30,
   "id": "Jel6E-3MyhwQ",
   "metadata": {
    "id": "Jel6E-3MyhwQ"
   },
   "outputs": [],
   "source": [
    "def search_path(func, x_iterations):\n",
    "  plt.plot(*zip(*x_iterations), \"-o\", color=\"r\")\n",
    "  x1, x2 = np.meshgrid(np.arange(-5.5, 5.5, 0.1), np.arange(-5.5, 5.5, 0.1))\n",
    "  plt.contourf(x1, x2, func(x1, x2))\n",
    "  plt.xlabel(\"x1\")\n",
    "  plt.ylabel(\"x2\")"
   ]
  },
  {
   "cell_type": "code",
   "execution_count": 31,
   "id": "EWVZkqJjT7Cl",
   "metadata": {
    "colab": {
     "base_uri": "https://localhost:8080/",
     "height": 317
    },
    "id": "EWVZkqJjT7Cl",
    "outputId": "fa30ba85-81a9-4b50-aea3-41ecdc9a1535"
   },
   "outputs": [
    {
     "name": "stdout",
     "output_type": "stream",
     "text": [
      "epoch 20, x1:0.0, x2:-2.0\n"
     ]
    },
    {
     "data": {
      "image/png": "[encoded data removed]",
      "text/plain": [
       "<Figure size 640x480 with 1 Axes>"
      ]
     },
     "metadata": {},
     "output_type": "display_data"
    }
   ],
   "source": [
    "opt = Optimizers(\"constant\")\n",
    "search_path(func, search(opt.gradient_descent, func_grad, 0.5))"
   ]
  },
  {
   "cell_type": "code",
   "execution_count": 32,
   "id": "KImJgrqocA-d",
   "metadata": {
    "colab": {
     "base_uri": "https://localhost:8080/",
     "height": 317
    },
    "id": "KImJgrqocA-d",
    "outputId": "18b1dd73-1e27-45a4-b6d5-62e4a158ac02"
   },
   "outputs": [
    {
     "name": "stdout",
     "output_type": "stream",
     "text": [
      "epoch 20, x1:-1.6641695802115608e-07, x2:0.0\n"
     ]
    },
    {
     "data": {
      "image/png": "[encoded data removed]",
      "text/plain": [
       "<Figure size 640x480 with 1 Axes>"
      ]
     },
     "metadata": {},
     "output_type": "display_data"
    }
   ],
   "source": [
    "opt = Optimizers(\"power\")\n",
    "search_path(func, search(opt.gradient_descent, func_grad, 0.5))"
   ]
  },
  {
   "cell_type": "code",
   "execution_count": 33,
   "id": "hR9a2FDbzsUa",
   "metadata": {
    "colab": {
     "base_uri": "https://localhost:8080/",
     "height": 317
    },
    "id": "hR9a2FDbzsUa",
    "outputId": "3790c14f-8261-4ed8-c32e-876531e3c34e"
   },
   "outputs": [
    {
     "ename": "TypeError",
     "evalue": "Optimizers.__init__() takes 2 positional arguments but 3 were given",
     "output_type": "error",
     "traceback": [
      "\u001b[0;31m---------------------------------------------------------------------------\u001b[0m",
      "\u001b[0;31mTypeError\u001b[0m                                 Traceback (most recent call last)",
      "Cell \u001b[0;32mIn[33], line 1\u001b[0m\n\u001b[0;32m----> 1\u001b[0m opt \u001b[38;5;241m=\u001b[39m \u001b[43mOptimizers\u001b[49m\u001b[43m(\u001b[49m\u001b[38;5;124;43m\"\u001b[39;49m\u001b[38;5;124;43mconstant\u001b[39;49m\u001b[38;5;124;43m\"\u001b[39;49m\u001b[43m,\u001b[49m\u001b[43m \u001b[49m\u001b[38;5;241;43m0.1\u001b[39;49m\u001b[43m)\u001b[49m\n\u001b[1;32m      2\u001b[0m search_path(func, search(opt\u001b[38;5;241m.\u001b[39mstochastic_gradient_descent, func_grad))\n",
      "\u001b[0;31mTypeError\u001b[0m: Optimizers.__init__() takes 2 positional arguments but 3 were given"
     ]
    }
   ],
   "source": [
    "opt = Optimizers(lr_schedule=\"constant\")\n",
    "search_path(func, search(opt.stochastic_gradient_descent, func_grad))"
   ]
  },
  {
   "cell_type": "code",
   "execution_count": 34,
   "id": "gMWsrjO1H1Ux",
   "metadata": {
    "colab": {
     "base_uri": "https://localhost:8080/",
     "height": 317
    },
    "id": "gMWsrjO1H1Ux",
    "outputId": "67059953-5e48-4158-f317-6ad78f86e5f2"
   },
   "outputs": [
    {
     "ename": "TypeError",
     "evalue": "Optimizers.__init__() takes 2 positional arguments but 3 were given",
     "output_type": "error",
     "traceback": [
      "\u001b[0;31m---------------------------------------------------------------------------\u001b[0m",
      "\u001b[0;31mTypeError\u001b[0m                                 Traceback (most recent call last)",
      "Cell \u001b[0;32mIn[34], line 1\u001b[0m\n\u001b[0;32m----> 1\u001b[0m opt \u001b[38;5;241m=\u001b[39m \u001b[43mOptimizers\u001b[49m\u001b[43m(\u001b[49m\u001b[38;5;124;43m\"\u001b[39;49m\u001b[38;5;124;43mconstant\u001b[39;49m\u001b[38;5;124;43m\"\u001b[39;49m\u001b[43m,\u001b[49m\u001b[43m \u001b[49m\u001b[38;5;241;43m0.02\u001b[39;49m\u001b[43m)\u001b[49m\n\u001b[1;32m      2\u001b[0m search_path(func, search(opt\u001b[38;5;241m.\u001b[39mgradient_descent_with_momentum, func_grad))\n",
      "\u001b[0;31mTypeError\u001b[0m: Optimizers.__init__() takes 2 positional arguments but 3 were given"
     ]
    }
   ],
   "source": [
    "opt = Optimizers(\"constant\", 0.02)\n",
    "search_path(func, search(opt.gradient_descent_with_momentum, func_grad))"
   ]
  },
  {
   "cell_type": "code",
   "execution_count": null,
   "id": "t-X1zRVuH66F",
   "metadata": {
    "colab": {
     "base_uri": "https://localhost:8080/",
     "height": 317
    },
    "id": "t-X1zRVuH66F",
    "outputId": "ce51fed3-8e71-4c8e-be63-5afd4a730127"
   },
   "outputs": [],
   "source": [
    "opt = Optimizers(\"constant\", 0.02)\n",
    "search_path(func, search(opt.nesterov_gradient_descent_with_momentum, func_grad))"
   ]
  },
  {
   "cell_type": "code",
   "execution_count": null,
   "id": "YWgI48iBCDw8",
   "metadata": {
    "colab": {
     "base_uri": "https://localhost:8080/",
     "height": 317
    },
    "id": "YWgI48iBCDw8",
    "outputId": "fe38fc87-180c-4dc8-9a5f-9dbea5ef31ac"
   },
   "outputs": [],
   "source": [
    "opt = Optimizers(\"constant\", 0.5)\n",
    "search_path(func, search(opt.ada_grad, func_grad))"
   ]
  },
  {
   "cell_type": "code",
   "execution_count": null,
   "id": "B_6pEbhyEO_i",
   "metadata": {
    "colab": {
     "base_uri": "https://localhost:8080/",
     "height": 317
    },
    "id": "B_6pEbhyEO_i",
    "outputId": "3a03b473-63d0-4599-c37f-6327c3db2826"
   },
   "outputs": [],
   "source": [
    "opt = Optimizers(\"constant\", 0.5)\n",
    "search_path(func, search(opt.rmsprop, func_grad))"
   ]
  },
  {
   "cell_type": "code",
   "execution_count": null,
   "id": "akVOmDhYSGGt",
   "metadata": {
    "colab": {
     "base_uri": "https://localhost:8080/",
     "height": 317
    },
    "id": "akVOmDhYSGGt",
    "outputId": "422ccb97-d549-4c4d-dd0b-f10644f91e04"
   },
   "outputs": [],
   "source": [
    "opt = Optimizers(\"constant\", 0.3)\n",
    "search_path(func, search_adam(opt.adam, func_grad))"
   ]
  },
  {
   "cell_type": "markdown",
   "id": "-_qKDWCFC1Z8",
   "metadata": {
    "id": "-_qKDWCFC1Z8"
   },
   "source": [
    "# Overfitting"
   ]
  },
  {
   "cell_type": "markdown",
   "id": "Ahz1EzOhDiMF",
   "metadata": {
    "id": "Ahz1EzOhDiMF"
   },
   "source": [
    "## L1 and L2"
   ]
  },
  {
   "cell_type": "code",
   "execution_count": null,
   "id": "C6N1L0WVVMFk",
   "metadata": {
    "id": "C6N1L0WVVMFk"
   },
   "outputs": [],
   "source": [
    "model = keras.models.Sequential([\n",
    "    keras.layers.Flatten(input_shape=[28, 28]),\n",
    "    keras.layers.Dense(100, activation=\"elu\",\n",
    "                       kernel_initializer=\"he_normal\",\n",
    "                       kernel_regulizer=keras.regularizers.l2(0.01)),\n",
    "    keras.layers.Dense(100, activation=\"elu\",\n",
    "                       kernel_initializer=\"he_normal\"),\n",
    "    keras.layers.Dense(50, activation=\"elu\",\n",
    "                       kernel_initializer=\"he_normal\"),                       \n",
    "    keras.layers.Dense(10, activation=\"softmax\")\n",
    "])"
   ]
  },
  {
   "cell_type": "code",
   "execution_count": null,
   "id": "Qa3bjhdbDFMV",
   "metadata": {
    "id": "Qa3bjhdbDFMV"
   },
   "outputs": [],
   "source": [
    "model.compile(loss=\"sparse_categorical_crossentropy\",\n",
    "              optimizer=\"sgd\",\n",
    "              metrics=[\"accuracy\"])"
   ]
  },
  {
   "cell_type": "markdown",
   "id": "kLgYXG1gJAGt",
   "metadata": {
    "id": "kLgYXG1gJAGt"
   },
   "source": [
    "## Dropout"
   ]
  },
  {
   "cell_type": "code",
   "execution_count": null,
   "id": "T1u_CuHEDfj3",
   "metadata": {
    "id": "T1u_CuHEDfj3"
   },
   "outputs": [],
   "source": [
    "model = keras.models.Sequential([\n",
    "    keras.layers.Flatten(input_shape=[28, 28]),\n",
    "    keras.layers.Dropout(0.2),\n",
    "    keras.layers.Dense(100, activation=\"elu\",\n",
    "                       kernel_initializer=\"he_normal\",\n",
    "                       kernel_regularizer=keras.regularizers.l2(0.01)),\n",
    "    keras.layers.Dropout(0.2),\n",
    "    keras.layers.Dense(100, activation=\"elu\",\n",
    "                       kernel_initializer=\"he_normal\"),\n",
    "    keras.layers.Dropout(0.2),\n",
    "    keras.layers.Dense(50, activation=\"elu\",\n",
    "                       kernel_initializer=\"he_normal\"),\n",
    "    keras.layers.Dropout(0.2),                       \n",
    "    keras.layers.Dense(10, activation=\"softmax\")\n",
    "])"
   ]
  },
  {
   "cell_type": "code",
   "execution_count": null,
   "id": "eNrH6DuYKiZd",
   "metadata": {
    "id": "eNrH6DuYKiZd"
   },
   "outputs": [],
   "source": [
    "model.compile(loss=\"sparse_categorical_crossentropy\",\n",
    "              optimizer=\"sgd\",\n",
    "              metrics=[\"accuracy\"])"
   ]
  },
  {
   "cell_type": "code",
   "execution_count": null,
   "id": "kKeNipiRKwyt",
   "metadata": {
    "colab": {
     "base_uri": "https://localhost:8080/"
    },
    "id": "kKeNipiRKwyt",
    "outputId": "ad6c1f9b-3896-45b4-917c-301d6e3dbc0b"
   },
   "outputs": [],
   "source": [
    "history = model.fit(x_train, y_train, \n",
    "                    validation_split=0.15,\n",
    "                    epochs=20)"
   ]
  },
  {
   "cell_type": "code",
   "execution_count": null,
   "id": "ubeYaDBEO1bc",
   "metadata": {
    "id": "ubeYaDBEO1bc"
   },
   "outputs": [],
   "source": [
    "model_mcd = np.stack([model(x_test, training=True) for _ in range(50)])"
   ]
  },
  {
   "cell_type": "code",
   "execution_count": null,
   "id": "FmOdVBonPiYB",
   "metadata": {
    "colab": {
     "base_uri": "https://localhost:8080/"
    },
    "id": "FmOdVBonPiYB",
    "outputId": "c5a1f3c8-7076-4283-a0eb-b9911074bf59"
   },
   "outputs": [],
   "source": [
    "np.round(model.predict(x_test[:1]), 3)"
   ]
  },
  {
   "cell_type": "code",
   "execution_count": null,
   "id": "W5kKFk2lP7nI",
   "metadata": {
    "colab": {
     "base_uri": "https://localhost:8080/"
    },
    "id": "W5kKFk2lP7nI",
    "outputId": "6a1c3ce2-4079-4bab-eecb-55a5cb513142"
   },
   "outputs": [],
   "source": [
    "np.round(model_mcd.mean(axis=0)[:1], 3)"
   ]
  },
  {
   "cell_type": "code",
   "execution_count": null,
   "id": "7GZqF3fvQTFP",
   "metadata": {
    "id": "7GZqF3fvQTFP"
   },
   "outputs": [],
   "source": [
    "class MonteCarloDropout(keras.layers.Dropout):\n",
    "  def call(self, inputs):\n",
    "    return super().call(inputs, training=True)"
   ]
  },
  {
   "cell_type": "markdown",
   "id": "-Ju6mUnkBQQ2",
   "metadata": {
    "id": "-Ju6mUnkBQQ2"
   },
   "source": [
    "## Max-Norm"
   ]
  },
  {
   "cell_type": "code",
   "execution_count": null,
   "id": "yt6Ysq-uSfqD",
   "metadata": {
    "id": "yt6Ysq-uSfqD"
   },
   "outputs": [],
   "source": [
    "model = keras.models.Sequential([\n",
    "    keras.layers.Flatten(input_shape=[28, 28]),\n",
    "    keras.layers.Dropout(0.2),\n",
    "    keras.layers.Dense(100, activation=\"elu\",\n",
    "                       kernel_initializer=\"he_normal\",\n",
    "                       kernel_regularizer=keras.regularizers.l2(0.01),\n",
    "                       kernel_constraint=keras.constraints.max_norm(1.0)),\n",
    "    keras.layers.Dropout(0.2),\n",
    "    keras.layers.Dense(100, activation=\"elu\",\n",
    "                       kernel_initializer=\"he_normal\"),\n",
    "    keras.layers.Dropout(0.2),\n",
    "    keras.layers.Dense(50, activation=\"elu\",\n",
    "                       kernel_initializer=\"he_normal\"),\n",
    "    keras.layers.Dropout(0.2),                       \n",
    "    keras.layers.Dense(10, activation=\"softmax\")\n",
    "])"
   ]
  },
  {
   "cell_type": "code",
   "execution_count": null,
   "id": "8Z1AuyiXBvVn",
   "metadata": {
    "id": "8Z1AuyiXBvVn"
   },
   "outputs": [],
   "source": [
    "model.compile(loss=\"sparse_categorical_crossentropy\",\n",
    "              optimizer=\"sgd\",\n",
    "              metrics=[\"accuracy\"])"
   ]
  },
  {
   "cell_type": "code",
   "execution_count": null,
   "id": "AiqVUM_cB0C1",
   "metadata": {
    "id": "AiqVUM_cB0C1"
   },
   "outputs": [],
   "source": []
  }
 ],
 "metadata": {
  "colab": {
   "collapsed_sections": [],
   "name": "Ch03.ipynb",
   "provenance": []
  },
  "kernelspec": {
   "display_name": "Python 3 (ipykernel)",
   "language": "python",
   "name": "python3"
  },
  "language_info": {
   "codemirror_mode": {
    "name": "ipython",
    "version": 3
   },
   "file_extension": ".py",
   "mimetype": "text/x-python",
   "name": "python",
   "nbconvert_exporter": "python",
   "pygments_lexer": "ipython3",
   "version": "3.10.11"
  }
 },
 "nbformat": 4,
 "nbformat_minor": 5
}
